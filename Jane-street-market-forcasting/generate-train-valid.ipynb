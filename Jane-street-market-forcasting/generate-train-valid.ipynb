{
 "cells": [
  {
   "cell_type": "code",
   "execution_count": 1,
   "metadata": {},
   "outputs": [],
   "source": [
    "import pandas as pd\n",
    "import polars as pl\n",
    "import numpy as np\n",
    "import gc\n",
    "from matplotlib import pyplot as plt\n",
    "import matplotlib.cm as cm\n",
    "from sklearn.model_selection import StratifiedGroupKFold"
   ]
  },
  {
   "cell_type": "code",
   "execution_count": 2,
   "metadata": {},
   "outputs": [],
   "source": [
    "class CONFIG:\n",
    "    target_col = \"responder_6\"\n",
    "    lag_cols_original = [\"date_id\", \"symbol_id\"] + [f\"responder_{idx}\" for idx in range(9)]\n",
    "    lag_cols_rename = { f\"responder_{idx}\" : f\"responder_{idx}_lag_1\" for idx in range(9)}\n",
    "    valid_ratio = 0.05\n",
    "    # record num between 30000 and 35000\n",
    "    start_dt = 950"
   ]
  },
  {
   "cell_type": "code",
   "execution_count": 3,
   "metadata": {},
   "outputs": [],
   "source": [
    "# Use last 2 parquets\n",
    "train = pl.scan_parquet(\n",
    "    f\"/root/autodl-tmp/train.parquet\"\n",
    ").select(\n",
    "    pl.int_range(pl.len(), dtype=pl.UInt32).alias(\"id\"),\n",
    "    pl.all(),\n",
    ").filter(\n",
    "    pl.col(\"date_id\").gt(CONFIG.start_dt)\n",
    ")"
   ]
  },
  {
   "cell_type": "code",
   "execution_count": 4,
   "metadata": {},
   "outputs": [
    {
     "data": {
      "text/html": [
       "<i>naive plan: (run <b>LazyFrame.explain(optimized=True)</b> to see the optimized plan)</i>\n",
       "    <p></p>\n",
       "    <div>AGGREGATE<p></p>\t[col(\"responder_0_lag_1\").last(), col(\"responder_1_lag_1\").last(), col(\"responder_2_lag_1\").last(), col(\"responder_3_lag_1\").last(), col(\"responder_4_lag_1\").last(), col(\"responder_5_lag_1\").last(), col(\"responder_6_lag_1\").last(), col(\"responder_7_lag_1\").last(), col(\"responder_8_lag_1\").last()] BY [col(\"date_id\"), col(\"symbol_id\")] FROM<p></p>   WITH_COLUMNS:<p></p>   [[(col(\"date_id\")) + (1)].alias(\"date_id\")] <p></p>    RENAME<p></p>       SELECT [col(\"date_id\"), col(\"symbol_id\"), col(\"responder_0\"), col(\"responder_1\"), col(\"responder_2\"), col(\"responder_3\"), col(\"responder_4\"), col(\"responder_5\"), col(\"responder_6\"), col(\"responder_7\"), col(\"responder_8\")] FROM<p></p>        FILTER [(col(\"date_id\")) > (950)] FROM<p></p>           SELECT [dyn int: 0.int_range([len()]).alias(\"id\"), col(\"date_id\"), col(\"time_id\"), col(\"symbol_id\"), col(\"weight\"), col(\"feature_00\"), col(\"feature_01\"), col(\"feature_02\"), col(\"feature_03\"), col(\"feature_04\"), col(\"feature_05\"), col(\"feature_06\"), col(\"feature_07\"), col(\"feature_08\"), col(\"feature_09\"), col(\"feature_10\"), col(\"feature_11\"), col(\"feature_12\"), col(\"feature_13\"), col(\"feature_14\"), col(\"feature_15\"), col(\"feature_16\"), col(\"feature_17\"), col(\"feature_18\"), col(\"feature_19\"), col(\"feature_20\"), col(\"feature_21\"), col(\"feature_22\"), col(\"feature_23\"), col(\"feature_24\"), col(\"feature_25\"), col(\"feature_26\"), col(\"feature_27\"), col(\"feature_28\"), col(\"feature_29\"), col(\"feature_30\"), col(\"feature_31\"), col(\"feature_32\"), col(\"feature_33\"), col(\"feature_34\"), col(\"feature_35\"), col(\"feature_36\"), col(\"feature_37\"), col(\"feature_38\"), col(\"feature_39\"), col(\"feature_40\"), col(\"feature_41\"), col(\"feature_42\"), col(\"feature_43\"), col(\"feature_44\"), col(\"feature_45\"), col(\"feature_46\"), col(\"feature_47\"), col(\"feature_48\"), col(\"feature_49\"), col(\"feature_50\"), col(\"feature_51\"), col(\"feature_52\"), col(\"feature_53\"), col(\"feature_54\"), col(\"feature_55\"), col(\"feature_56\"), col(\"feature_57\"), col(\"feature_58\"), col(\"feature_59\"), col(\"feature_60\"), col(\"feature_61\"), col(\"feature_62\"), col(\"feature_63\"), col(\"feature_64\"), col(\"feature_65\"), col(\"feature_66\"), col(\"feature_67\"), col(\"feature_68\"), col(\"feature_69\"), col(\"feature_70\"), col(\"feature_71\"), col(\"feature_72\"), col(\"feature_73\"), col(\"feature_74\"), col(\"feature_75\"), col(\"feature_76\"), col(\"feature_77\"), col(\"feature_78\"), col(\"responder_0\"), col(\"responder_1\"), col(\"responder_2\"), col(\"responder_3\"), col(\"responder_4\"), col(\"responder_5\"), col(\"responder_6\"), col(\"responder_7\"), col(\"responder_8\"), col(\"partition_id\")] FROM<p></p>            Parquet SCAN [/root/autodl-tmp/train.parquet/partition_id=0/part-0.parquet, ... 9 other sources]<p></p>            PROJECT */93 COLUMNS</div>"
      ],
      "text/plain": [
       "<LazyFrame at 0x7F24BB9EFB80>"
      ]
     },
     "execution_count": 4,
     "metadata": {},
     "output_type": "execute_result"
    }
   ],
   "source": [
    "lags = train.select(pl.col(CONFIG.lag_cols_original))\n",
    "lags = lags.rename(CONFIG.lag_cols_rename)\n",
    "lags = lags.with_columns(\n",
    "    date_id = pl.col('date_id') + 1,  # lagged by 1 day\n",
    "    )\n",
    "\n",
    "# the data in the last record represented the closing price for that day.\n",
    "# I used the last record because I assumed that the next day's value would be \n",
    "# closer to the previous day's closing price than the previous day's average value.\n",
    "lags = lags.group_by([\"date_id\", \"symbol_id\"], maintain_order=True).last()  # pick up last record of previous date\n",
    "lags"
   ]
  },
  {
   "cell_type": "code",
   "execution_count": 5,
   "metadata": {},
   "outputs": [
    {
     "data": {
      "text/html": [
       "<i>naive plan: (run <b>LazyFrame.explain(optimized=True)</b> to see the optimized plan)</i>\n",
       "    <p></p>\n",
       "    <div>LEFT JOIN:<p></p>LEFT PLAN ON: [col(\"date_id\"), col(\"symbol_id\")]<p></p>  FILTER [(col(\"date_id\")) > (950)] FROM<p></p>     SELECT [dyn int: 0.int_range([len()]).alias(\"id\"), col(\"date_id\"), col(\"time_id\"), col(\"symbol_id\"), col(\"weight\"), col(\"feature_00\"), col(\"feature_01\"), col(\"feature_02\"), col(\"feature_03\"), col(\"feature_04\"), col(\"feature_05\"), col(\"feature_06\"), col(\"feature_07\"), col(\"feature_08\"), col(\"feature_09\"), col(\"feature_10\"), col(\"feature_11\"), col(\"feature_12\"), col(\"feature_13\"), col(\"feature_14\"), col(\"feature_15\"), col(\"feature_16\"), col(\"feature_17\"), col(\"feature_18\"), col(\"feature_19\"), col(\"feature_20\"), col(\"feature_21\"), col(\"feature_22\"), col(\"feature_23\"), col(\"feature_24\"), col(\"feature_25\"), col(\"feature_26\"), col(\"feature_27\"), col(\"feature_28\"), col(\"feature_29\"), col(\"feature_30\"), col(\"feature_31\"), col(\"feature_32\"), col(\"feature_33\"), col(\"feature_34\"), col(\"feature_35\"), col(\"feature_36\"), col(\"feature_37\"), col(\"feature_38\"), col(\"feature_39\"), col(\"feature_40\"), col(\"feature_41\"), col(\"feature_42\"), col(\"feature_43\"), col(\"feature_44\"), col(\"feature_45\"), col(\"feature_46\"), col(\"feature_47\"), col(\"feature_48\"), col(\"feature_49\"), col(\"feature_50\"), col(\"feature_51\"), col(\"feature_52\"), col(\"feature_53\"), col(\"feature_54\"), col(\"feature_55\"), col(\"feature_56\"), col(\"feature_57\"), col(\"feature_58\"), col(\"feature_59\"), col(\"feature_60\"), col(\"feature_61\"), col(\"feature_62\"), col(\"feature_63\"), col(\"feature_64\"), col(\"feature_65\"), col(\"feature_66\"), col(\"feature_67\"), col(\"feature_68\"), col(\"feature_69\"), col(\"feature_70\"), col(\"feature_71\"), col(\"feature_72\"), col(\"feature_73\"), col(\"feature_74\"), col(\"feature_75\"), col(\"feature_76\"), col(\"feature_77\"), col(\"feature_78\"), col(\"responder_0\"), col(\"responder_1\"), col(\"responder_2\"), col(\"responder_3\"), col(\"responder_4\"), col(\"responder_5\"), col(\"responder_6\"), col(\"responder_7\"), col(\"responder_8\"), col(\"partition_id\")] FROM<p></p>      Parquet SCAN [/root/autodl-tmp/train.parquet/partition_id=0/part-0.parquet, ... 9 other sources]<p></p>      PROJECT */93 COLUMNS<p></p>RIGHT PLAN ON: [col(\"date_id\"), col(\"symbol_id\")]<p></p>  AGGREGATE<p></p>  \t[col(\"responder_0_lag_1\").last(), col(\"responder_1_lag_1\").last(), col(\"responder_2_lag_1\").last(), col(\"responder_3_lag_1\").last(), col(\"responder_4_lag_1\").last(), col(\"responder_5_lag_1\").last(), col(\"responder_6_lag_1\").last(), col(\"responder_7_lag_1\").last(), col(\"responder_8_lag_1\").last()] BY [col(\"date_id\"), col(\"symbol_id\")] FROM<p></p>     WITH_COLUMNS:<p></p>     [[(col(\"date_id\")) + (1)].alias(\"date_id\")] <p></p>      RENAME<p></p>         SELECT [col(\"date_id\"), col(\"symbol_id\"), col(\"responder_0\"), col(\"responder_1\"), col(\"responder_2\"), col(\"responder_3\"), col(\"responder_4\"), col(\"responder_5\"), col(\"responder_6\"), col(\"responder_7\"), col(\"responder_8\")] FROM<p></p>          FILTER [(col(\"date_id\")) > (950)] FROM<p></p>             SELECT [dyn int: 0.int_range([len()]).alias(\"id\"), col(\"date_id\"), col(\"time_id\"), col(\"symbol_id\"), col(\"weight\"), col(\"feature_00\"), col(\"feature_01\"), col(\"feature_02\"), col(\"feature_03\"), col(\"feature_04\"), col(\"feature_05\"), col(\"feature_06\"), col(\"feature_07\"), col(\"feature_08\"), col(\"feature_09\"), col(\"feature_10\"), col(\"feature_11\"), col(\"feature_12\"), col(\"feature_13\"), col(\"feature_14\"), col(\"feature_15\"), col(\"feature_16\"), col(\"feature_17\"), col(\"feature_18\"), col(\"feature_19\"), col(\"feature_20\"), col(\"feature_21\"), col(\"feature_22\"), col(\"feature_23\"), col(\"feature_24\"), col(\"feature_25\"), col(\"feature_26\"), col(\"feature_27\"), col(\"feature_28\"), col(\"feature_29\"), col(\"feature_30\"), col(\"feature_31\"), col(\"feature_32\"), col(\"feature_33\"), col(\"feature_34\"), col(\"feature_35\"), col(\"feature_36\"), col(\"feature_37\"), col(\"feature_38\"), col(\"feature_39\"), col(\"feature_40\"), col(\"feature_41\"), col(\"feature_42\"), col(\"feature_43\"), col(\"feature_44\"), col(\"feature_45\"), col(\"feature_46\"), col(\"feature_47\"), col(\"feature_48\"), col(\"feature_49\"), col(\"feature_50\"), col(\"feature_51\"), col(\"feature_52\"), col(\"feature_53\"), col(\"feature_54\"), col(\"feature_55\"), col(\"feature_56\"), col(\"feature_57\"), col(\"feature_58\"), col(\"feature_59\"), col(\"feature_60\"), col(\"feature_61\"), col(\"feature_62\"), col(\"feature_63\"), col(\"feature_64\"), col(\"feature_65\"), col(\"feature_66\"), col(\"feature_67\"), col(\"feature_68\"), col(\"feature_69\"), col(\"feature_70\"), col(\"feature_71\"), col(\"feature_72\"), col(\"feature_73\"), col(\"feature_74\"), col(\"feature_75\"), col(\"feature_76\"), col(\"feature_77\"), col(\"feature_78\"), col(\"responder_0\"), col(\"responder_1\"), col(\"responder_2\"), col(\"responder_3\"), col(\"responder_4\"), col(\"responder_5\"), col(\"responder_6\"), col(\"responder_7\"), col(\"responder_8\"), col(\"partition_id\")] FROM<p></p>              Parquet SCAN [/root/autodl-tmp/train.parquet/partition_id=0/part-0.parquet, ... 9 other sources]<p></p>              PROJECT */93 COLUMNS<p></p>END LEFT JOIN</div>"
      ],
      "text/plain": [
       "<LazyFrame at 0x7F24BB9EF9D0>"
      ]
     },
     "execution_count": 5,
     "metadata": {},
     "output_type": "execute_result"
    }
   ],
   "source": [
    "train = train.join(lags, on=[\"date_id\", \"symbol_id\"],  how=\"left\")\n",
    "train"
   ]
  },
  {
   "cell_type": "code",
   "execution_count": 6,
   "metadata": {},
   "outputs": [
    {
     "name": "stdout",
     "output_type": "stream",
     "text": [
      "\n",
      " len_train = 27250168\n",
      "\n",
      " len_ofl_mdl = 25887660\n",
      "\n",
      "---> Last offline train date = 1662\n",
      "\n"
     ]
    }
   ],
   "source": [
    "len_train   = train.select(pl.col(\"date_id\")).collect().shape[0]\n",
    "valid_records = int(len_train * CONFIG.valid_ratio)\n",
    "len_ofl_mdl = len_train - valid_records\n",
    "last_tr_dt  = train.select(pl.col(\"date_id\")).collect().row(len_ofl_mdl)[0]\n",
    "\n",
    "print(f\"\\n len_train = {len_train}\")\n",
    "print(f\"\\n len_ofl_mdl = {len_ofl_mdl}\")\n",
    "print(f\"\\n---> Last offline train date = {last_tr_dt}\\n\")\n",
    "\n",
    "training_data = train.filter(pl.col(\"date_id\").le(last_tr_dt))\n",
    "validation_data   = train.filter(pl.col(\"date_id\").gt(last_tr_dt))"
   ]
  },
  {
   "cell_type": "code",
   "execution_count": 7,
   "metadata": {},
   "outputs": [],
   "source": [
    "training_data.collect().\\\n",
    "write_parquet(\n",
    "    f\"training.parquet\", partition_by = \"date_id\",\n",
    ")"
   ]
  },
  {
   "cell_type": "code",
   "execution_count": 8,
   "metadata": {},
   "outputs": [],
   "source": [
    "validation_data.collect().\\\n",
    "write_parquet(\n",
    "    \"validation.parquet\", partition_by = \"date_id\",\n",
    ")"
   ]
  }
 ],
 "metadata": {
  "kernelspec": {
   "display_name": "jane_street",
   "language": "python",
   "name": "python3"
  },
  "language_info": {
   "codemirror_mode": {
    "name": "ipython",
    "version": 3
   },
   "file_extension": ".py",
   "mimetype": "text/x-python",
   "name": "python",
   "nbconvert_exporter": "python",
   "pygments_lexer": "ipython3",
   "version": "3.10.16"
  }
 },
 "nbformat": 4,
 "nbformat_minor": 2
}
